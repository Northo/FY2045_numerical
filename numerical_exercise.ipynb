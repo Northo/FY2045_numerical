{
 "cells": [
  {
   "cell_type": "markdown",
   "metadata": {},
   "source": [
    "# Numerical exercise QM\n",
    "\n",
    "Numerical solution of TDSE etc."
   ]
  },
  {
   "cell_type": "code",
   "execution_count": null,
   "metadata": {},
   "outputs": [],
   "source": [
    "'''Import necessary packages'''\n",
    "import numpy as np\n",
    "import matplotlib.pyplot as plt"
   ]
  },
  {
   "cell_type": "code",
   "execution_count": null,
   "metadata": {},
   "outputs": [],
   "source": [
    "# Set common figure parameters:\n",
    "newparams = {'axes.labelsize': 11, 'axes.linewidth': 1, 'savefig.dpi': 300, \n",
    "             'lines.linewidth': 1.0, 'figure.figsize': (15, 12),\n",
    "             'ytick.labelsize': 10, 'xtick.labelsize': 10,\n",
    "             'ytick.major.pad': 5, 'xtick.major.pad': 5,}\n",
    "plt.rcParams.update(newparams)"
   ]
  },
  {
   "cell_type": "code",
   "execution_count": null,
   "metadata": {},
   "outputs": [],
   "source": [
    "'''Parameters and constants'''\n",
    "h_bar = 1\n",
    "m = 1\n",
    "k_0 = 20\n",
    "L = 20\n",
    "N = 1000\n",
    "omega = h_bar * k_0**2 / (2*m) # Obs. is this correct?? Jø nø se pa, håper det.\n",
    "E = h_bar * omega # Is this correct?? Håper det også :^)\n",
    "dx = L/(N-1)"
   ]
  },
  {
   "cell_type": "code",
   "execution_count": null,
   "metadata": {},
   "outputs": [],
   "source": [
    "x = np.linspace(0, L, N) # Spacing should be almost dx"
   ]
  },
  {
   "cell_type": "code",
   "execution_count": null,
   "metadata": {},
   "outputs": [],
   "source": [
    "def timestep(psi_im, psi_re, v, dt):\n",
    "    \"\"\"Performs one timestep of size dt\n",
    "    Input:\n",
    "        psi_im : Psi_im(x, t)\n",
    "        psi_re : Psi_re(x, t + dt/2)\n",
    "    Returns:\n",
    "        psi_im : Psi_im(x, t + dt)\n",
    "        psi_re : Psi_re(x, t + dt)\n",
    "    \"\"\"\n",
    "    \n",
    "    assert psi_im[0] == psi_im[-1] == psi_re[0] == psi_re[-1] == 0, \"Psi should be zero for x = 0 and x = L\"\n",
    "    # Find psi_im(t+dt) given psi_im(t) and psi_re(t + dt/2)\n",
    "    psi_im[1:-1] -= dt*(v[1:-1]*psi_re[1:-1]/h_bar - (psi_re[2:] - 2*psi_re[1:-1] + psi_re[:-2])*h_bar/(2*m*dx**2))\n",
    "    \n",
    "    # Find psi_re(t+ 3*dt/2) given psi_re(t+dt/2) and psi_im(t+dt) (remember, psi_im is now at t = t+dt)\n",
    "    psi_re[1:-1] += dt*(v[1:-1]*psi_im[1:-1]/h_bar - (psi_im[2:] - 2*psi_im[1:-1] + psi_im[:-2])*h_bar/(2*m*dx**2))\n",
    "    \n",
    "    return psi_im, psi_re"
   ]
  },
  {
   "cell_type": "markdown",
   "metadata": {},
   "source": [
    "## Problem 1\n",
    "\n",
    "We start by calculating the initial wave function, normalising it, and plotting the real and imaginary parts. We also plot the initial probability distribution for the particles position given by $\\mid{\\Psi(x,t)}\\mid^2$."
   ]
  },
  {
   "cell_type": "code",
   "execution_count": null,
   "metadata": {},
   "outputs": [],
   "source": [
    "''' Problem 1'''\n",
    "x_s = 5 # Start position\n",
    "x_f = L/2 + x_s # final position, later we will let the wave propagate til it reaches here, ellerno\n",
    "sigma_x = 1.5\n",
    "\n",
    "# Normalization\n",
    "C = 1/np.sqrt(\n",
    "    np.sum(np.exp(-(x-x_s)**2/(sigma_x**2)))*dx\n",
    ")\n",
    "\n",
    "v = np.zeros(N) # Zero potential\n",
    "dt = 0.1 * h_bar / (h_bar**2 /(2*m*dx**2) + np.max(v)) # Timestep, much smaller than ..., see (12)\n",
    "\n",
    "'''Parameters for propagation'''\n",
    "v_g = h_bar*k_0/m # group velocity\n",
    "sim_time = L/(2*v_g) # simulation time\n",
    "num_iter = int(sim_time/dt) # number of iterations\n",
    "\n",
    "# Arrays for storing psis at different points in time, need this later\n",
    "psi_re = np.zeros([num_iter, N])\n",
    "psi_im = np.zeros([num_iter, N])\n",
    "# see (8)\n",
    "psi_re[0, 1:-1] = C*np.exp(-(x[1:-1]-x_s)**2/(2*sigma_x**2)) * np.cos(k_0*x[1:-1] - omega*dt/2)\n",
    "psi_im[0, 1:-1] = C*np.exp(-(x[1:-1]-x_s)**2/(2*sigma_x**2)) * np.sin(k_0*x[1:-1])"
   ]
  },
  {
   "cell_type": "code",
   "execution_count": null,
   "metadata": {},
   "outputs": [],
   "source": [
    "''' Plot start state, real and imaginary'''\n",
    "plt.plot(x, psi_re[0], label=\"Initial Re\")\n",
    "plt.plot(x, psi_im[0], label=\"Initial Im\")\n",
    "plt.title('Initial wave function')\n",
    "plt.legend()\n",
    "simulated_time = dt*num_iter\n",
    "print(f\"Simulated time: {simulated_time}s\")"
   ]
  },
  {
   "cell_type": "code",
   "execution_count": null,
   "metadata": {
    "scrolled": true
   },
   "outputs": [],
   "source": [
    "'''Initial probability density'''\n",
    "initial_prob_density = np.square(np.absolute(psi_re[0] + psi_im[0]*1j))\n",
    "plt.plot(x, initial_prob_density, label='')\n",
    "plt.title('Probability density in the initial state')\n",
    "plt.show()"
   ]
  },
  {
   "cell_type": "markdown",
   "metadata": {},
   "source": [
    "## Problem 2\n",
    "\n",
    "We now let the wave packet propagate from its starting position $x_s = 5$ to $x_f = 15$."
   ]
  },
  {
   "cell_type": "code",
   "execution_count": null,
   "metadata": {},
   "outputs": [],
   "source": [
    "def simulate(v, x_s, sigma_x, num_iter, psi_real, psi_imag):\n",
    "    '''\n",
    "    Cool docstring\n",
    "    '''\n",
    "    C = 1/np.sqrt(\n",
    "    np.sum(np.exp(-(x-x_s)**2/(sigma_x**2)))*dx\n",
    "    )\n",
    "    \n",
    "    psi_real[0, 1:-1] = C*np.exp(-(x[1:-1]-x_s)**2/(2*sigma_x**2)) * np.cos(k_0*x[1:-1] - omega*dt/2)\n",
    "    psi_imag[0, 1:-1] = C*np.exp(-(x[1:-1]-x_s)**2/(2*sigma_x**2)) * np.sin(k_0*x[1:-1])\n",
    "\n",
    "    for i in range(num_iter-1):\n",
    "        psi_imag[i+1], psi_real[i+1] = timestep(psi_imag[i], psi_real[i], v, dt) #todo: pass more sensible dt\n",
    "        \n",
    "    return psi_real, psi_imag"
   ]
  },
  {
   "cell_type": "code",
   "execution_count": null,
   "metadata": {},
   "outputs": [],
   "source": [
    "'''This cell runs the simulation'''\n",
    "psi_re, psi_imag = simulate(v, x_s, sigma_x, num_iter, psi_re, psi_im)"
   ]
  },
  {
   "cell_type": "code",
   "execution_count": null,
   "metadata": {
    "scrolled": true
   },
   "outputs": [],
   "source": [
    "# Plot start and final state\n",
    "plt.plot(x, psi_re[0], label=\"Initial Re\")\n",
    "plt.plot(x, psi_re[-1], label=\"Final Re\")\n",
    "plt.legend()\n",
    "simulated_time = dt*num_iter\n",
    "print(f\"Simulated time: {simulated_time}s\")"
   ]
  },
  {
   "cell_type": "code",
   "execution_count": null,
   "metadata": {
    "scrolled": false
   },
   "outputs": [],
   "source": [
    "'''Animation'''\n",
    "from matplotlib import animation\n",
    "from IPython.display import HTML\n",
    "from mpl_toolkits.mplot3d import Axes3D\n",
    "plt.rcParams.update({'animation.html':'html5', 'savefig.dpi': 100})\n",
    "fig = plt.figure(figsize=(15, 10))\n",
    "ax = fig.add_subplot('111', projection='3d')\n",
    "def init_anim():\n",
    "    #ax.plot(x, psi_re[0], psi_im[0])\n",
    "    global line\n",
    "    line, = ax.plot(x, psi_re[0], psi_re[1])\n",
    "    #ax.set_xlim([0, L])\n",
    "    #ax.set_ylim([-1, 1])\n",
    "    #ax.set_zlim([-1, 1])\n",
    "    \n",
    "def animate(y):\n",
    "    global line\n",
    "    line.set_data(x, y[0])\n",
    "    line.set_3d_properties(y[1])\n",
    "    \n",
    "anim = animation.FuncAnimation(fig, animate, init_func=init_anim, frames=zip(psi_re[::100], psi_im[::100]), interval=60)\n",
    "plt.close(anim._fig)\n",
    "HTML(anim.to_html5_video())"
   ]
  },
  {
   "cell_type": "code",
   "execution_count": null,
   "metadata": {},
   "outputs": [],
   "source": [
    "from matplotlib import animation\n",
    "from IPython.display import HTML\n",
    "plt.rcParams.update({'animation.html':'html5', 'savefig.dpi': 100})\n",
    "\n",
    "def init_anim():\n",
    "    global ax, line1, line2\n",
    "    line1, = ax.plot([], [])\n",
    "    line2, = ax.plot([], [])\n",
    "    ax.set_xlim([0, L])\n",
    "    ax.set_ylim([-1, 1])\n",
    "    \n",
    "    \n",
    "def animate(y):\n",
    "    global ax, line\n",
    "    line1.set_data(x, y[0])\n",
    "    line2.set_data(x, y[1])\n",
    "    \n",
    "    \n",
    "fig, ax = plt.subplots()\n",
    "anim = animation.FuncAnimation(fig, animate, init_func=init_anim, frames=zip(psi_re[::100], psi_im[::100]), interval=60)\n",
    "plt.close(anim._fig)\n",
    "HTML(anim.to_html5_video())"
   ]
  },
  {
   "cell_type": "code",
   "execution_count": null,
   "metadata": {},
   "outputs": [],
   "source": [
    "'''Simulation for more sigma_x's'''\n",
    "sigma_xs = [0.5, 1.0, 2.0]\n",
    "\n",
    "psi_re_sgms = np.zeros([len(sigma_xs), num_iter, N])\n",
    "psi_im_sgms = np.zeros([len(sigma_xs), num_iter, N])\n",
    "\n",
    "for j in range(len(sigma_xs)):\n",
    "    psi_re_sgms[j], psi_im_sgms[j] = simulate(v, x_s, sigma_xs[j], num_iter, psi_re, psi_im)"
   ]
  },
  {
   "cell_type": "code",
   "execution_count": null,
   "metadata": {
    "scrolled": false
   },
   "outputs": [],
   "source": [
    "''' Plot start and final state for the different sigmas'''\n",
    "for i in range(len(sigma_xs)):\n",
    "    plt.plot(x, psi_re_sgms[i][0], label=\"Initial Re\")\n",
    "    plt.plot(x, psi_re_sgms[i][-1], label=\"Final Re\")\n",
    "    plt.legend()\n",
    "    plt.title('sigma_x = ' + str(sigma_xs[i]))\n",
    "    plt.show()\n",
    "    simulated_time = dt*num_iter\n",
    "    print(f\"Simulated time: {simulated_time}s\")"
   ]
  },
  {
   "cell_type": "markdown",
   "metadata": {},
   "source": [
    "## Introducing a barrier"
   ]
  },
  {
   "cell_type": "code",
   "execution_count": null,
   "metadata": {},
   "outputs": [],
   "source": [
    "'''Defines a barrier'''\n",
    "l = L/50 # barrier width\n",
    "v_0 =  3*E/4 # barrier height\n",
    "v_barr = v_0*np.heaviside(x*np.heaviside(-x +L/2 +l/2, 1) -L/2+l/2, 0)"
   ]
  },
  {
   "cell_type": "code",
   "execution_count": null,
   "metadata": {},
   "outputs": [],
   "source": [
    "'''Runs simulation with the barrier potential'''\n",
    "psi_re, psi_im = simulate(v_barr, x_s, sigma_x, num_iter, psi_re, psi_im)"
   ]
  },
  {
   "cell_type": "code",
   "execution_count": null,
   "metadata": {},
   "outputs": [],
   "source": [
    "'''Plot start and final state'''\n",
    "plt.plot(x, psi_re[0], label=\"Initial\")\n",
    "plt.plot(x, psi_re[-1], label=\"FInal\")\n",
    "plt.legend()\n",
    "simulated_time = dt*num_iter\n",
    "print(f\"Simulated time: {simulated_time}s\")"
   ]
  },
  {
   "cell_type": "code",
   "execution_count": null,
   "metadata": {},
   "outputs": [],
   "source": [
    "'''Animation'''\n",
    "fig, ax = plt.subplots()\n",
    "ax.plot(x, v_barr)\n",
    "anim = animation.FuncAnimation(fig, animate, init_func=init_anim, frames=zip(psi_re[::100], psi_im[::100]), interval=60)\n",
    "plt.close(anim._fig)\n",
    "HTML(anim.to_html5_video())"
   ]
  },
  {
   "cell_type": "code",
   "execution_count": null,
   "metadata": {},
   "outputs": [],
   "source": [
    "'''Calculates P(right) and P(left), probability of being right and left of the barrier'''\n",
    "mid_i = int(N/2) # Index of center\n",
    "\n",
    "P_right = np.sum((psi_re**2+psi_im**2)[[0, -1], mid_i:], axis=1)*dx\n",
    "P_left = np.sum((psi_re**2+psi_im**2)[[0, -1], :mid_i], axis=1)*dx\n",
    "\n",
    "print(f\"P_right: {P_right}\\nP_left: {P_left}\\nSum: {P_right + P_left}\")"
   ]
  },
  {
   "cell_type": "code",
   "execution_count": null,
   "metadata": {},
   "outputs": [],
   "source": [
    "print(f\"Probability of transmission: {P_right[1]}\")"
   ]
  },
  {
   "cell_type": "code",
   "execution_count": null,
   "metadata": {},
   "outputs": [],
   "source": [
    "'''Calculates transmission probability as a function of barrier height'''\n",
    "v = E*np.heaviside(x*np.heaviside(-x +L/2 +l/2, 1) -L/2+l/2, 0)\n",
    "fraction = np.linspace(0, 3/2, 50)\n",
    "P_trans = []\n",
    "\n",
    "for f in fraction:\n",
    "    psi_re, psi_im = simulate(f*v_barr, x_s, sigma_x, num_iter, psi_re, psi_im)\n",
    "    P_trans.append(np.sum((psi_re**2+psi_im**2)[-1, mid_i:])*dx)"
   ]
  },
  {
   "cell_type": "code",
   "execution_count": null,
   "metadata": {},
   "outputs": [],
   "source": [
    "plt.plot(fraction, P_trans)"
   ]
  },
  {
   "cell_type": "code",
   "execution_count": null,
   "metadata": {},
   "outputs": [],
   "source": [
    "# Find transmission probability as a function of barrier width\n",
    "v_0 =  9*E/10 # barrier height\n",
    "\n",
    "widths = np.linspace(0, L/20, 50)\n",
    "P_trans = []\n",
    "\n",
    "#psi_re = np.zeros([num_iter, N])\n",
    "#psi_im = np.zeros([num_iter, N])\n",
    "# see (8)\n",
    "#psi_re[0, 1:-1] = C*np.exp(-(x[1:-1]-x_s)**2/(2*sigma_x**2)) * np.cos(k_0*x[1:-1] - omega*dt/2)\n",
    "#psi_im[0, 1:-1] = C*np.exp(-(x[1:-1]-x_s)**2/(2*sigma_x**2)) * np.sin(k_0*x[1:-1])\n",
    "\n",
    "for l in widths:\n",
    "    v = v_0*np.heaviside(x*np.heaviside(-x +L/2 +l/2, 1) -L/2+l/2, 0)\n",
    "    psi_re, psi_im = simulate(f*v_barr, x_s, sigma_x, num_iter, psi_re, psi_im)\n",
    "    P_trans.append(np.sum((psi_re**2+psi_im**2)[-1, mid_i:])*dx)\n",
    "plt.plot(widths, P_trans)"
   ]
  },
  {
   "cell_type": "code",
   "execution_count": null,
   "metadata": {},
   "outputs": [],
   "source": []
  }
 ],
 "metadata": {
  "kernelspec": {
   "display_name": "Python 3",
   "language": "python",
   "name": "python3"
  },
  "language_info": {
   "codemirror_mode": {
    "name": "ipython",
    "version": 3
   },
   "file_extension": ".py",
   "mimetype": "text/x-python",
   "name": "python",
   "nbconvert_exporter": "python",
   "pygments_lexer": "ipython3",
   "version": "3.7.4"
  }
 },
 "nbformat": 4,
 "nbformat_minor": 2
}
