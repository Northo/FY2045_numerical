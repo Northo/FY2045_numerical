{
 "cells": [
  {
   "cell_type": "markdown",
   "metadata": {},
   "source": [
    "# Numerical exercise QM\n",
    "\n",
    "Numerical solution of TDSE etc."
   ]
  },
  {
   "cell_type": "code",
   "execution_count": null,
   "metadata": {},
   "outputs": [],
   "source": [
    "'''Import necessary packages'''\n",
    "import numpy as np\n",
    "import matplotlib.pyplot as plt\n",
    "\n",
    "from matplotlib import animation\n",
    "from IPython.display import HTML\n",
    "from mpl_toolkits.mplot3d import Axes3D"
   ]
  },
  {
   "cell_type": "code",
   "execution_count": null,
   "metadata": {},
   "outputs": [],
   "source": [
    "'''Set common figure parameters:'''\n",
    "newparams = {'axes.labelsize': 11, 'axes.linewidth': 1, 'savefig.dpi': 300, \n",
    "             'lines.linewidth': 1.0, 'figure.figsize': (10, 8),\n",
    "             'ytick.labelsize': 10, 'xtick.labelsize': 10,\n",
    "             'ytick.major.pad': 5, 'xtick.major.pad': 5,}\n",
    "plt.rcParams.update(newparams)"
   ]
  },
  {
   "cell_type": "code",
   "execution_count": null,
   "metadata": {},
   "outputs": [],
   "source": [
    "'''Parameters and constants'''\n",
    "h_bar = 1\n",
    "m = 1\n",
    "k_0 = 20\n",
    "L = 20\n",
    "N = 1000\n",
    "omega = h_bar * k_0**2 / (2*m) # Obs. is this correct?? Jø nø se pa, håper det.\n",
    "E = h_bar * omega # Is this correct?? Håper det også :^)\n",
    "dx = L/(N-1)"
   ]
  },
  {
   "cell_type": "code",
   "execution_count": null,
   "metadata": {},
   "outputs": [],
   "source": [
    "x = np.linspace(0, L, N) # Spacing should be almost dx"
   ]
  },
  {
   "cell_type": "code",
   "execution_count": null,
   "metadata": {},
   "outputs": [],
   "source": [
    "def timestep(psi_im, psi_re, v, dt):\n",
    "    \"\"\"Performs one timestep of size dt\n",
    "    Input:\n",
    "        psi_im : Psi_im(x, t)\n",
    "        psi_re : Psi_re(x, t + dt/2)\n",
    "    Returns:\n",
    "        psi_im : Psi_im(x, t + dt)\n",
    "        psi_re : Psi_re(x, t + dt)\n",
    "    \"\"\"\n",
    "    \n",
    "    assert psi_im[0] == psi_im[-1] == psi_re[0] == psi_re[-1] == 0, \"Psi should be zero for x = 0 and x = L\"\n",
    "    # Find psi_im(t+dt) given psi_im(t) and psi_re(t + dt/2)\n",
    "    psi_im[1:-1] -= dt*(v[1:-1]*psi_re[1:-1]/h_bar - (psi_re[2:] - 2*psi_re[1:-1] + psi_re[:-2])*h_bar/(2*m*dx**2))\n",
    "    \n",
    "    # Find psi_re(t+ 3*dt/2) given psi_re(t+dt/2) and psi_im(t+dt) (remember, psi_im is now at t = t+dt)\n",
    "    psi_re[1:-1] += dt*(v[1:-1]*psi_im[1:-1]/h_bar - (psi_im[2:] - 2*psi_im[1:-1] + psi_im[:-2])*h_bar/(2*m*dx**2))\n",
    "    \n",
    "    return psi_im, psi_re"
   ]
  },
  {
   "cell_type": "code",
   "execution_count": null,
   "metadata": {},
   "outputs": [],
   "source": [
    "# Yo, Knært, jeg orket ikke tenke på hvor man burde plassere ting, så la den her. Kanskje dust, men den må hvertfall være før generate_psi()\n",
    "''' Problem 1'''\n",
    "x_s = 5 # Start position\n",
    "x_f = L/2 + x_s # final position, later we will let the wave propagate til it reaches here, ellerno\n",
    "sigma_x = 1.5\n",
    "\n",
    "# Normalization\n",
    "C = 1/np.sqrt(\n",
    "    np.sum(np.exp(-(x-x_s)**2/(sigma_x**2)))*dx\n",
    ")\n",
    "\n",
    "v = np.zeros(N) # Zero potential\n",
    "dt = 0.1 * h_bar / (h_bar**2 /(2*m*dx**2) + np.max(v)) # Timestep, much smaller than ..., see (12)\n",
    "\n",
    "'''Parameters for propagation'''\n",
    "v_g = h_bar*k_0/m # group velocity\n",
    "sim_time = L/(2*v_g) # simulation time\n",
    "num_iter = int(sim_time/dt) # number of iterations\n"
   ]
  },
  {
   "cell_type": "code",
   "execution_count": null,
   "metadata": {},
   "outputs": [],
   "source": [
    "def generate_psi(x_s=x_s, sigma_x=sigma_x, num_iter=num_iter, N=N):\n",
    "    \"\"\"Generates inital values for psi\n",
    "    Returns:\n",
    "        psi_re\n",
    "        psi_im\"\"\"\n",
    "    # Arrays for storing psis at different points in time, need this later\n",
    "    psi_re = np.zeros([num_iter, N])\n",
    "    psi_im = np.zeros([num_iter, N])\n",
    "\n",
    "    # see (8)\n",
    "    psi_re[0, 1:-1] = C*np.exp(-(x[1:-1]-x_s)**2/(2*sigma_x**2)) * np.cos(k_0*x[1:-1] - omega*dt/2)\n",
    "    psi_im[0, 1:-1] = C*np.exp(-(x[1:-1]-x_s)**2/(2*sigma_x**2)) * np.sin(k_0*x[1:-1])\n",
    "    return psi_re, psi_im"
   ]
  },
  {
   "cell_type": "code",
   "execution_count": null,
   "metadata": {},
   "outputs": [],
   "source": [
    "def generate_barrier(barrier_width, barrier_strength):\n",
    "    return barrier_strength * np.heaviside(x*np.heaviside(-x +L/2 +barrier_width/2, 1) -L/2+barrier_width/2, 0)"
   ]
  },
  {
   "cell_type": "code",
   "execution_count": null,
   "metadata": {},
   "outputs": [],
   "source": [
    "def simulate(x_s, sigma_x, barrier_width, barrier_strength, num_iter):\n",
    "    '''\n",
    "    Runs simulation for num_iter timesteps, using the timestep function.\n",
    "    \n",
    "    Input:\n",
    "        v: potential vector\n",
    "        x_s: starting position\n",
    "        sigma_x: standard deviation for the Gaussian\n",
    "        num_iter: number of interations (timesteps)\n",
    "    Output:\n",
    "        psi_real: vector with the real parts of the WF at each timestep\n",
    "        psi_imag: vector with the imaginary parts of the WF at each timestep\n",
    "    '''\n",
    "    C = 1/np.sqrt(\n",
    "    np.sum(np.exp(-(x-x_s)**2/(sigma_x**2)))*dx\n",
    "    )\n",
    "    \n",
    "    v = generate_barrier(barrier_width, barrier_strength)\n",
    "    psi_re, psi_im = generate_psi(x_s=x_s, sigma_x=sigma_x, num_iter=num_iter)\n",
    "\n",
    "    for i in range(num_iter-1):\n",
    "        psi_im[i+1], psi_re[i+1] = timestep(psi_im[i], psi_re[i], v, dt) #todo: pass more sensible dt\n",
    "        \n",
    "    return psi_re, psi_im"
   ]
  },
  {
   "cell_type": "code",
   "execution_count": null,
   "metadata": {},
   "outputs": [],
   "source": [
    "def simulate_and_plot(x_s, sigma_x, barrier_width, barrier_strength, num_iter):\n",
    "    \"\"\"Simulates and plots inital and final state for psi_re\"\"\"\n",
    "    psi_re, _ = simulate(x_s, sigma_x, barrier_width, barrier_strength, num_iter)\n",
    "    plt.plot(x, psi_re[0], label=\"Initial Re\")\n",
    "    plt.plot(x, psi_re[-1], label=\"Final Re\")\n",
    "    plt.legend()"
   ]
  },
  {
   "cell_type": "code",
   "execution_count": null,
   "metadata": {},
   "outputs": [],
   "source": [
    "# Helper function for animation\n",
    "\n",
    "def _get_ims_3D(psi_1, psi_2, ax):\n",
    "    ims = []\n",
    "    for i in range(0, len(psi_1), 100):\n",
    "        ln1 = plt.plot(x, psi_1[i], psi_2[i], 'tab:blue')\n",
    "        ims.append(ln1)\n",
    "    return ims\n",
    "\n",
    "def _get_ims_2D(psi_1, psi_2, ax):\n",
    "    ims = []\n",
    "    for i in range(0, len(psi_1), 100):\n",
    "        ln1, = ax.plot(x, psi_1[i], 'tab:orange')\n",
    "        ln2, = ax.plot(x, psi_2[i], 'tab:blue')\n",
    "        ims.append((ln1, ln2,))\n",
    "    return ims"
   ]
  },
  {
   "cell_type": "code",
   "execution_count": null,
   "metadata": {},
   "outputs": [],
   "source": [
    "def animate(psi_1, psi_2, in_3D=False):\n",
    "    \"\"\"Animates psi_1 and psi_2\n",
    "    Parameters:\n",
    "        psi_1, psi_2 : ndarray, shape (num_iterations, N)\n",
    "        in_3D        : bool, animate in 3D\n",
    "    Returns:\n",
    "        HTML5 video\"\"\"\n",
    "    assert len(psi_1)==len(psi_2), \"psi_1 and psi_2 must have the same length!\"\n",
    "    fig = plt.figure(figsize=(8, 6))\n",
    "    if in_3D:\n",
    "        ax = fig.add_subplot('111', projection='3d')\n",
    "        ims = _get_ims_3D(psi_1, psi_2, ax)\n",
    "    else:\n",
    "        ax = fig.add_subplot('111')\n",
    "        ims = _get_ims_2D(psi_1, psi_2, ax)\n",
    "        \n",
    "    anim = animation.ArtistAnimation(fig, ims, interval=60)\n",
    "    plt.close(anim._fig)\n",
    "    return HTML(anim.to_html5_video())\n",
    "\n",
    "def simulate_and_animate(x_s, sigma_x, barrier_width, barrier_strength, num_iter, in_3D=False):\n",
    "    psi_re, psi_im = simulate(x_s, sigma_x, barrier_width, barrier_strength, num_iter)\n",
    "    \n",
    "    return animate(psi_re, psi_im, in_3D=in_3D)"
   ]
  },
  {
   "cell_type": "code",
   "execution_count": null,
   "metadata": {},
   "outputs": [],
   "source": [
    "simulate_and_animate(5, 2, L/5, 9*E/10, num_iter)"
   ]
  },
  {
   "cell_type": "markdown",
   "metadata": {},
   "source": [
    "## Problem 1\n",
    "\n",
    "We start by calculating the initial wave function, normalising it, and plotting the real and imaginary parts. We also plot the initial probability distribution for the particles position given by $\\mid{\\Psi(x,t)}\\mid^2$."
   ]
  },
  {
   "cell_type": "code",
   "execution_count": null,
   "metadata": {},
   "outputs": [],
   "source": [
    "psi_re, psi_im = generate_psi()"
   ]
  },
  {
   "cell_type": "code",
   "execution_count": null,
   "metadata": {},
   "outputs": [],
   "source": [
    "''' Plot start state, real and imaginary'''\n",
    "plt.plot(x, psi_re[0], label=\"Initial Re\")\n",
    "plt.plot(x, psi_im[0], label=\"Initial Im\")\n",
    "plt.title('Initial wave function')\n",
    "plt.legend()\n",
    "simulated_time = dt*num_iter\n",
    "print(f\"Simulated time: {simulated_time}s\")"
   ]
  },
  {
   "cell_type": "code",
   "execution_count": null,
   "metadata": {
    "scrolled": false
   },
   "outputs": [],
   "source": [
    "'''Initial probability density'''\n",
    "initial_prob_density = np.square(np.absolute(psi_re[0] + psi_im[0]*1j))\n",
    "plt.plot(x, initial_prob_density, label='')\n",
    "plt.title('Probability density in the initial state')\n",
    "plt.show()"
   ]
  },
  {
   "cell_type": "markdown",
   "metadata": {},
   "source": [
    "## Problem 2\n",
    "\n",
    "We now let the wave packet propagate from its starting position $x_s = 5$ to $x_f = 15$."
   ]
  },
  {
   "cell_type": "code",
   "execution_count": null,
   "metadata": {},
   "outputs": [],
   "source": [
    "simulate_and_plot(x_s, sigma_x, 0, 0, num_iter)"
   ]
  },
  {
   "cell_type": "code",
   "execution_count": null,
   "metadata": {
    "scrolled": false
   },
   "outputs": [],
   "source": [
    "'''Simulation for more sigma_x's'''\n",
    "sigma_xs = [0.5, 1.0, 2.0]\n",
    "\n",
    "for i, sigma_x in enumerate(sigma_xs):\n",
    "    plt.subplot(f\"31{i+1}\")\n",
    "    simulate_and_plot(x_s, sigma_x, 0, 0, num_iter)"
   ]
  },
  {
   "cell_type": "markdown",
   "metadata": {},
   "source": [
    "## Introducing a barrier"
   ]
  },
  {
   "cell_type": "code",
   "execution_count": null,
   "metadata": {},
   "outputs": [],
   "source": [
    "'''Defines a barrier'''\n",
    "l = L/20 # barrier width\n",
    "v_0 =  3*E/4 # barrier height\n",
    "psi_re, psi_im = simulate(x_s, sigma_x, l, v_0, num_iter)"
   ]
  },
  {
   "cell_type": "code",
   "execution_count": null,
   "metadata": {},
   "outputs": [],
   "source": [
    "'''Plot start and final state'''\n",
    "plt.plot(x, psi_re[0], label=\"Initial\")\n",
    "plt.plot(x, psi_re[-1], label=\"FInal\")\n",
    "plt.legend()"
   ]
  },
  {
   "cell_type": "code",
   "execution_count": null,
   "metadata": {},
   "outputs": [],
   "source": [
    "'''Animation'''\n",
    "animate(psi_re, psi_im)"
   ]
  },
  {
   "cell_type": "code",
   "execution_count": null,
   "metadata": {},
   "outputs": [],
   "source": [
    "'''Calculates P(right) and P(left), probability of being right and left of the barrier'''\n",
    "mid_i = int(N/2) # Index of center\n",
    "\n",
    "P_right = np.sum((psi_re**2+psi_im**2)[[0, -1], mid_i:], axis=1)*dx\n",
    "P_left = np.sum((psi_re**2+psi_im**2)[[0, -1], :mid_i], axis=1)*dx\n",
    "\n",
    "print(f\"P_right: {P_right}\\nP_left: {P_left}\\nSum: {P_right + P_left}\")"
   ]
  },
  {
   "cell_type": "code",
   "execution_count": null,
   "metadata": {},
   "outputs": [],
   "source": [
    "print(f\"Probability of transmission: {P_right[1]}\")"
   ]
  },
  {
   "cell_type": "code",
   "execution_count": null,
   "metadata": {},
   "outputs": [],
   "source": [
    "'''Calculates transmission probability as a function of barrier height'''\n",
    "l = L/40\n",
    "fraction = np.linspace(0, 3/2, 50)\n",
    "P_trans = []\n",
    "\n",
    "for f in fraction:\n",
    "    psi_re, psi_im = simulate(x_s, sigma_x, l, f*E, num_iter)\n",
    "    P_trans.append(np.sum((psi_re**2+psi_im**2)[-1, mid_i:])*dx)"
   ]
  },
  {
   "cell_type": "code",
   "execution_count": null,
   "metadata": {},
   "outputs": [],
   "source": [
    "plt.plot(fraction, P_trans)"
   ]
  },
  {
   "cell_type": "code",
   "execution_count": null,
   "metadata": {},
   "outputs": [],
   "source": [
    "# Find transmission probability as a function of barrier width\n",
    "v_0 =  9*E/10 # barrier height\n",
    "\n",
    "widths = np.geomspace(0.01, L/10, 50)\n",
    "P_trans = []\n",
    "\n",
    "for l in widths:\n",
    "    psi_re, psi_im = simulate(x_s, sigma_x, l, v_0, num_iter)\n",
    "    P_trans.append(np.sum((psi_re**2+psi_im**2)[-1, mid_i:])*dx)\n",
    "plt.plot(widths/L, P_trans, 'o-') # Note that widths are plotted as fractions of L\n",
    "plt.show()"
   ]
  },
  {
   "cell_type": "code",
   "execution_count": null,
   "metadata": {},
   "outputs": [],
   "source": []
  }
 ],
 "metadata": {
  "kernelspec": {
   "display_name": "Python 3",
   "language": "python",
   "name": "python3"
  },
  "language_info": {
   "codemirror_mode": {
    "name": "ipython",
    "version": 3
   },
   "file_extension": ".py",
   "mimetype": "text/x-python",
   "name": "python",
   "nbconvert_exporter": "python",
   "pygments_lexer": "ipython3",
   "version": "3.7.4"
  }
 },
 "nbformat": 4,
 "nbformat_minor": 2
}
