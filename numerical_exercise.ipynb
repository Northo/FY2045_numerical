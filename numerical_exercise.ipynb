{
 "cells": [
  {
   "cell_type": "markdown",
   "metadata": {},
   "source": [
    "# Numerical exercise QM"
   ]
  },
  {
   "cell_type": "code",
   "execution_count": null,
   "metadata": {},
   "outputs": [],
   "source": [
    "import numpy as np\n",
    "import matplotlib.pyplot as plt"
   ]
  },
  {
   "cell_type": "code",
   "execution_count": null,
   "metadata": {},
   "outputs": [],
   "source": [
    "h_bar = 1\n",
    "m = 1\n",
    "k_0 = 20\n",
    "L = 20\n",
    "\n",
    "N = 1000\n",
    "\n",
    "omega = h_bar * k_0**2 / (2*m) # Obs. is this correct??\n",
    "E = h_bar * omega # Is this correct??\n",
    "\n",
    "dx = L/(N+1)"
   ]
  },
  {
   "cell_type": "code",
   "execution_count": null,
   "metadata": {},
   "outputs": [],
   "source": [
    "x = np.linspace(0, L, N) # Spacing should be almost dx\n",
    "\n"
   ]
  },
  {
   "cell_type": "code",
   "execution_count": null,
   "metadata": {},
   "outputs": [],
   "source": [
    "def timestep(psi_im, psi_re, v, dt):\n",
    "    \"\"\"Performs one timestep of size dt\n",
    "    Input:\n",
    "        psi_im : Psi_im(x, t)\n",
    "        psi_re : Psi_re(x, t + dt/2)\n",
    "    Returns:\n",
    "        psi_im : Psi_im(x, t + dt)\n",
    "        psi_re : Psi_re(x, t + dt)\n",
    "    \"\"\"\n",
    "    \n",
    "    assert psi_im[0] == psi_im[-1] == psi_re[0] == psi_re[-1] == 0, \"Psi should be zero for x = 0 and x = L\"\n",
    "    # Find psi_im(t+dt) given psi_im(t) and psi_re(t + dt/2)\n",
    "    psi_im[1:-1] -= dt*(v[1:-1]*psi_re[1:-1]/h_bar - (psi_re[2:] - 2*psi_re[1:-1] + psi_re[:-2])*h_bar/(2*m*dx**2))\n",
    "    \n",
    "    # Find psi_re(t+ 3*dt/2) given psi_re(t+dt/2) and psi_im(t+dt) (remember, psi_im is now at t = t+dt)\n",
    "    psi_re[1:-1] += dt*(v[1:-1]*psi_im[1:-1]/h_bar - (psi_im[2:] - 2*psi_im[1:-1] + psi_im[:-2])*h_bar/(2*m*dx**2))\n",
    "    \n",
    "    return psi_im, psi_re"
   ]
  },
  {
   "cell_type": "code",
   "execution_count": null,
   "metadata": {},
   "outputs": [],
   "source": [
    "# Problem 1\n",
    "x_s = 5\n",
    "sigma_x = 1.5\n",
    "dt = 0.1 * h_bar / (h_bar**2 /(2*m*dx**2) + np.max(v)) # Much smaller than ..., see (12)\n",
    "\n",
    "# Normalization\n",
    "C = 1/np.sqrt(\n",
    "    np.sum(np.exp(-(x-x_s)**2/(sigma_x**2)))*dx\n",
    ")\n",
    "\n",
    "v = np.zeros(N)\n",
    "num_iter = 10000\n",
    "psi_re = np.zeros([num_iter, N])\n",
    "psi_im = np.zeros([num_iter, N])\n",
    "# see (8)\n",
    "psi_re[0, 1:-1] = C*np.exp(-(x[1:-1]-x_s)**2/(2*sigma_x**2)) * np.cos(k_0*x[1:-1] - omega*dt/2)\n",
    "psi_im[0, 1:-1] = C*np.exp(-(x[1:-1]-x_s)**2/(2*sigma_x**2)) * np.sin(k_0*x[1:-1])"
   ]
  },
  {
   "cell_type": "code",
   "execution_count": null,
   "metadata": {},
   "outputs": [],
   "source": [
    "for i in range(num_iter-1):\n",
    "    psi_im[i+1], psi_re[i+1] = timestep(psi_im[i], psi_re[i], v, 0.0001)\n",
    "    if not i % 100:\n",
    "        plt.xlim([0, L])\n",
    "        plt.plot(x, psi_im[i])\n",
    "        plt.plot(x, psi_re[i])\n",
    "        plt.show()"
   ]
  },
  {
   "cell_type": "code",
   "execution_count": null,
   "metadata": {},
   "outputs": [],
   "source": []
  },
  {
   "cell_type": "code",
   "execution_count": null,
   "metadata": {},
   "outputs": [],
   "source": []
  },
  {
   "cell_type": "code",
   "execution_count": null,
   "metadata": {},
   "outputs": [],
   "source": []
  }
 ],
 "metadata": {
  "kernelspec": {
   "display_name": "Python 3",
   "language": "python",
   "name": "python3"
  },
  "language_info": {
   "codemirror_mode": {
    "name": "ipython",
    "version": 3
   },
   "file_extension": ".py",
   "mimetype": "text/x-python",
   "name": "python",
   "nbconvert_exporter": "python",
   "pygments_lexer": "ipython3",
   "version": "3.7.3"
  }
 },
 "nbformat": 4,
 "nbformat_minor": 2
}
