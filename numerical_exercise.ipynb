{
 "cells": [
  {
   "cell_type": "markdown",
   "metadata": {},
   "source": [
    "# Numerical exercise QM"
   ]
  },
  {
   "cell_type": "code",
   "execution_count": null,
   "metadata": {},
   "outputs": [],
   "source": [
    "import numpy as np\n",
    "import matplotlib.pyplot as plt"
   ]
  },
  {
   "cell_type": "code",
   "execution_count": null,
   "metadata": {},
   "outputs": [],
   "source": [
    "h_bar = 1\n",
    "m = 1\n",
    "k_0 = 20\n",
    "L = 20\n",
    "\n",
    "N = 1000\n",
    "\n",
    "omega = h_bar * k_0**2 / (2*m) # Obs. is this correct??\n",
    "E = h_bar * omega # Is this correct??\n",
    "\n",
    "dx = L/(N-1)"
   ]
  },
  {
   "cell_type": "code",
   "execution_count": null,
   "metadata": {},
   "outputs": [],
   "source": [
    "x = np.linspace(0, L, N) # Spacing should be almost dx\n",
    "\n"
   ]
  },
  {
   "cell_type": "code",
   "execution_count": null,
   "metadata": {},
   "outputs": [],
   "source": [
    "def timestep(psi_im, psi_re, v, dt):\n",
    "    \"\"\"Performs one timestep of size dt\n",
    "    Input:\n",
    "        psi_im : Psi_im(x, t)\n",
    "        psi_re : Psi_re(x, t + dt/2)\n",
    "    Returns:\n",
    "        psi_im : Psi_im(x, t + dt)\n",
    "        psi_re : Psi_re(x, t + dt)\n",
    "    \"\"\"\n",
    "    \n",
    "    assert psi_im[0] == psi_im[-1] == psi_re[0] == psi_re[-1] == 0, \"Psi should be zero for x = 0 and x = L\"\n",
    "    # Find psi_im(t+dt) given psi_im(t) and psi_re(t + dt/2)\n",
    "    psi_im[1:-1] -= dt*(v[1:-1]*psi_re[1:-1]/h_bar - (psi_re[2:] - 2*psi_re[1:-1] + psi_re[:-2])*h_bar/(2*m*dx**2))\n",
    "    \n",
    "    # Find psi_re(t+ 3*dt/2) given psi_re(t+dt/2) and psi_im(t+dt) (remember, psi_im is now at t = t+dt)\n",
    "    psi_re[1:-1] += dt*(v[1:-1]*psi_im[1:-1]/h_bar - (psi_im[2:] - 2*psi_im[1:-1] + psi_im[:-2])*h_bar/(2*m*dx**2))\n",
    "    \n",
    "    return psi_im, psi_re"
   ]
  },
  {
   "cell_type": "code",
   "execution_count": null,
   "metadata": {},
   "outputs": [],
   "source": [
    "# Problem 1\n",
    "x_s = 5\n",
    "sigma_x = 1.5\n",
    "\n",
    "# Normalization\n",
    "C = 1/np.sqrt(\n",
    "    np.sum(np.exp(-(x-x_s)**2/(sigma_x**2)))*dx\n",
    ")\n",
    "\n",
    "v = np.zeros(N)\n",
    "\n",
    "dt = 0.1 * h_bar / (h_bar**2 /(2*m*dx**2) + np.max(v)) # Much smaller than ..., see (12)\n",
    "\n",
    "num_iter = 3000\n",
    "psi_re = np.zeros([num_iter, N])\n",
    "psi_im = np.zeros([num_iter, N])\n",
    "# see (8)\n",
    "psi_re[0, 1:-1] = C*np.exp(-(x[1:-1]-x_s)**2/(2*sigma_x**2)) * np.cos(k_0*x[1:-1] - omega*dt/2)\n",
    "psi_im[0, 1:-1] = C*np.exp(-(x[1:-1]-x_s)**2/(2*sigma_x**2)) * np.sin(k_0*x[1:-1])"
   ]
  },
  {
   "cell_type": "code",
   "execution_count": null,
   "metadata": {},
   "outputs": [],
   "source": [
    "for i in range(num_iter-1):\n",
    "    psi_im[i+1], psi_re[i+1] = timestep(psi_im[i], psi_re[i], v, 0.0001)\n",
    "    if not i % 100 and False:\n",
    "        plt.xlim([0, L])\n",
    "        plt.plot(x, psi_im[i])\n",
    "        plt.plot(x, psi_re[i])\n",
    "        plt.show()"
   ]
  },
  {
   "cell_type": "code",
   "execution_count": null,
   "metadata": {},
   "outputs": [],
   "source": [
    "# Plot start and final state\n",
    "plt.plot(x, psi_re[0], label=\"Initial\")\n",
    "plt.plot(x, psi_re[-1], label=\"FInal\")\n",
    "plt.legend()\n",
    "simulated_time = dt*num_iter\n",
    "print(f\"Simulated time: {simulated_time}s\")"
   ]
  },
  {
   "cell_type": "code",
   "execution_count": null,
   "metadata": {},
   "outputs": [],
   "source": [
    "from matplotlib import animation\n",
    "from IPython.display import HTML\n",
    "plt.rcParams.update({'animation.html':'html5', 'savefig.dpi': 100})\n",
    "\n",
    "def init_anim():\n",
    "    global ax, line1, line2\n",
    "    line1, = ax.plot([], [])\n",
    "    line2, = ax.plot([], [])\n",
    "    ax.set_xlim([0, L])\n",
    "    ax.set_ylim([-1, 1])\n",
    "    \n",
    "def animate(y):\n",
    "    global ax, line\n",
    "    line1.set_data(x, y[0])\n",
    "    line2.set_data(x, y[1])\n",
    "    \n",
    "fig, ax = plt.subplots()\n",
    "anim = animation.FuncAnimation(fig, animate, init_func=init_anim, frames=zip(psi_re[::100], psi_im[::100]), interval=60)\n",
    "plt.close(anim._fig)\n",
    "HTML(anim.to_html5_video())"
   ]
  },
  {
   "cell_type": "markdown",
   "metadata": {},
   "source": [
    "## Introducing a barrier"
   ]
  },
  {
   "cell_type": "code",
   "execution_count": null,
   "metadata": {},
   "outputs": [],
   "source": [
    "l = L/50 # barrier width\n",
    "v_0 =  3*E/4 # barrier height\n",
    "v = v_0*np.heaviside(x*np.heaviside(-x +L/2 +l/2, 1) -L/2+l/2, 0)\n",
    "\n",
    "# Problem 3\n",
    "x_s = 5\n",
    "sigma_x = 1.5"
   ]
  },
  {
   "cell_type": "code",
   "execution_count": null,
   "metadata": {},
   "outputs": [],
   "source": [
    "def simulate(v, x_s, sigma_x, num_iter):\n",
    "    # Normalization\n",
    "    C = 1/np.sqrt(\n",
    "        np.sum(np.exp(-(x-x_s)**2/(sigma_x**2)))*dx\n",
    "    )\n",
    "\n",
    "    dt = 1 * h_bar / (h_bar**2 /(2*m*dx**2) + np.max(v)) # Much smaller than ..., see (12)\n",
    "    psi_re = np.zeros([num_iter, N])\n",
    "    psi_im = np.zeros([num_iter, N])\n",
    "    # see (8)\n",
    "    psi_re[0, 1:-1] = C*np.exp(-(x[1:-1]-x_s)**2/(2*sigma_x**2)) * np.cos(k_0*x[1:-1] - omega*dt/2)\n",
    "    psi_im[0, 1:-1] = C*np.exp(-(x[1:-1]-x_s)**2/(2*sigma_x**2)) * np.sin(k_0*x[1:-1])\n",
    "\n",
    "    for i in range(num_iter-1):\n",
    "        psi_im[i+1], psi_re[i+1] = timestep(psi_im[i], psi_re[i], v, 0.0001) #todo: pass more sensible dt\n",
    "        \n",
    "    return psi_re, psi_im"
   ]
  },
  {
   "cell_type": "code",
   "execution_count": null,
   "metadata": {},
   "outputs": [],
   "source": [
    "psi_re, psi_im = simulate(v, x_s, sigma_x, 6000)"
   ]
  },
  {
   "cell_type": "code",
   "execution_count": null,
   "metadata": {},
   "outputs": [],
   "source": [
    "# Plot start and final state\n",
    "plt.plot(x, psi_re[0], label=\"Initial\")\n",
    "plt.plot(x, psi_re[-1], label=\"FInal\")\n",
    "plt.legend()\n",
    "simulated_time = dt*num_iter\n",
    "print(f\"Simulated time: {simulated_time}s\")"
   ]
  },
  {
   "cell_type": "code",
   "execution_count": null,
   "metadata": {},
   "outputs": [],
   "source": [
    "fig, ax = plt.subplots()\n",
    "ax.plot(x, v)\n",
    "anim = animation.FuncAnimation(fig, animate, init_func=init_anim, frames=zip(psi_re[::100], psi_im[::100]), interval=60)\n",
    "plt.close(anim._fig)\n",
    "HTML(anim.to_html5_video())"
   ]
  },
  {
   "cell_type": "code",
   "execution_count": null,
   "metadata": {},
   "outputs": [],
   "source": [
    "# Finding P(right) and P(left), probability of being right and left of the barrier\n",
    "mid_i = int(N/2) # Index of center\n",
    "\n",
    "P_right = np.sum((psi_re**2+psi_im**2)[[0, -1], mid_i:], axis=1)*dx\n",
    "P_left = np.sum((psi_re**2+psi_im**2)[[0, -1], :mid_i], axis=1)*dx\n",
    "\n",
    "print(f\"P_right: {P_right}\\nP_left: {P_left}\\nSum: {P_right + P_left}\")"
   ]
  },
  {
   "cell_type": "code",
   "execution_count": null,
   "metadata": {},
   "outputs": [],
   "source": [
    "print(f\"Probability of transmission: {P_right[1]}\")"
   ]
  },
  {
   "cell_type": "code",
   "execution_count": null,
   "metadata": {},
   "outputs": [],
   "source": [
    "# Find transmission probability as a function of barrier height\n",
    "v = E*np.heaviside(x*np.heaviside(-x +L/2 +l/2, 1) -L/2+l/2, 0)\n",
    "fraction = np.linspace(0, 3/2, 50)\n",
    "P_trans = []\n",
    "\n",
    "for f in fraction:\n",
    "    psi_re, psi_im = simulate(f*v, x_s, sigma_x, 6000)\n",
    "    P_trans.append(np.sum((psi_re**2+psi_im**2)[-1, mid_i:])*dx)"
   ]
  },
  {
   "cell_type": "code",
   "execution_count": null,
   "metadata": {},
   "outputs": [],
   "source": [
    "plt.plot(fraction, P_trans)"
   ]
  },
  {
   "cell_type": "code",
   "execution_count": null,
   "metadata": {},
   "outputs": [],
   "source": []
  }
 ],
 "metadata": {
  "kernelspec": {
   "display_name": "Python 3",
   "language": "python",
   "name": "python3"
  },
  "language_info": {
   "codemirror_mode": {
    "name": "ipython",
    "version": 3
   },
   "file_extension": ".py",
   "mimetype": "text/x-python",
   "name": "python",
   "nbconvert_exporter": "python",
   "pygments_lexer": "ipython3",
   "version": "3.7.3"
  }
 },
 "nbformat": 4,
 "nbformat_minor": 2
}
